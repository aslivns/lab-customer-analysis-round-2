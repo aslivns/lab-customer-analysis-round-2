{
 "cells": [
  {
   "cell_type": "code",
   "execution_count": 1,
   "id": "58b5230b",
   "metadata": {},
   "outputs": [],
   "source": [
    "import pandas as pd\n",
    "import numpy as np"
   ]
  },
  {
   "cell_type": "code",
   "execution_count": 2,
   "id": "0f63fcab",
   "metadata": {},
   "outputs": [],
   "source": [
    "data = pd.read_csv('marketing_customer_analysis.csv')"
   ]
  },
  {
   "cell_type": "code",
   "execution_count": 3,
   "id": "2afcb3e3",
   "metadata": {},
   "outputs": [
    {
     "data": {
      "text/plain": [
       "(10910, 26)"
      ]
     },
     "execution_count": 3,
     "metadata": {},
     "output_type": "execute_result"
    }
   ],
   "source": [
    "#1.Show the dataframe shape.\n",
    "data.shape"
   ]
  },
  {
   "cell_type": "markdown",
   "id": "e5f20721",
   "metadata": {},
   "source": [
    "# Standardize headers"
   ]
  },
  {
   "cell_type": "code",
   "execution_count": 4,
   "id": "c452a450",
   "metadata": {},
   "outputs": [
    {
     "data": {
      "text/plain": [
       "Index(['Unnamed: 0', 'Customer', 'State', 'Customer Lifetime Value',\n",
       "       'Response', 'Coverage', 'Education', 'Effective To Date',\n",
       "       'EmploymentStatus', 'Gender', 'Income', 'Location Code',\n",
       "       'Marital Status', 'Monthly Premium Auto', 'Months Since Last Claim',\n",
       "       'Months Since Policy Inception', 'Number of Open Complaints',\n",
       "       'Number of Policies', 'Policy Type', 'Policy', 'Renew Offer Type',\n",
       "       'Sales Channel', 'Total Claim Amount', 'Vehicle Class', 'Vehicle Size',\n",
       "       'Vehicle Type'],\n",
       "      dtype='object')"
      ]
     },
     "execution_count": 4,
     "metadata": {},
     "output_type": "execute_result"
    }
   ],
   "source": [
    "data.columns"
   ]
  },
  {
   "cell_type": "code",
   "execution_count": 5,
   "id": "b3d55107",
   "metadata": {},
   "outputs": [],
   "source": [
    "data = data.drop(['Unnamed: 0'], axis = 1)"
   ]
  },
  {
   "cell_type": "code",
   "execution_count": 6,
   "id": "e32dcd8d",
   "metadata": {},
   "outputs": [],
   "source": [
    "data =  data.rename(columns={'EmploymentStatus':'Employment Status'})"
   ]
  },
  {
   "cell_type": "code",
   "execution_count": 7,
   "id": "b23740b9",
   "metadata": {},
   "outputs": [],
   "source": [
    "cols = []\n",
    "for colname in data.columns:\n",
    "    cols.append(colname.lower())\n",
    "data.columns = cols"
   ]
  },
  {
   "cell_type": "code",
   "execution_count": 8,
   "id": "4d843bae",
   "metadata": {},
   "outputs": [
    {
     "data": {
      "text/plain": [
       "Index(['customer', 'state', 'customer lifetime value', 'response', 'coverage',\n",
       "       'education', 'effective to date', 'employment status', 'gender',\n",
       "       'income', 'location code', 'marital status', 'monthly premium auto',\n",
       "       'months since last claim', 'months since policy inception',\n",
       "       'number of open complaints', 'number of policies', 'policy type',\n",
       "       'policy', 'renew offer type', 'sales channel', 'total claim amount',\n",
       "       'vehicle class', 'vehicle size', 'vehicle type'],\n",
       "      dtype='object')"
      ]
     },
     "execution_count": 8,
     "metadata": {},
     "output_type": "execute_result"
    }
   ],
   "source": [
    "data.columns"
   ]
  },
  {
   "cell_type": "code",
   "execution_count": 9,
   "id": "71fffcdc",
   "metadata": {},
   "outputs": [
    {
     "data": {
      "text/html": [
       "<div>\n",
       "<style scoped>\n",
       "    .dataframe tbody tr th:only-of-type {\n",
       "        vertical-align: middle;\n",
       "    }\n",
       "\n",
       "    .dataframe tbody tr th {\n",
       "        vertical-align: top;\n",
       "    }\n",
       "\n",
       "    .dataframe thead th {\n",
       "        text-align: right;\n",
       "    }\n",
       "</style>\n",
       "<table border=\"1\" class=\"dataframe\">\n",
       "  <thead>\n",
       "    <tr style=\"text-align: right;\">\n",
       "      <th></th>\n",
       "      <th>customer lifetime value</th>\n",
       "      <th>income</th>\n",
       "      <th>monthly premium auto</th>\n",
       "      <th>months since last claim</th>\n",
       "      <th>months since policy inception</th>\n",
       "      <th>number of open complaints</th>\n",
       "      <th>number of policies</th>\n",
       "      <th>total claim amount</th>\n",
       "    </tr>\n",
       "  </thead>\n",
       "  <tbody>\n",
       "    <tr>\n",
       "      <th>0</th>\n",
       "      <td>4809.216960</td>\n",
       "      <td>48029</td>\n",
       "      <td>61</td>\n",
       "      <td>7.0</td>\n",
       "      <td>52</td>\n",
       "      <td>0.0</td>\n",
       "      <td>9</td>\n",
       "      <td>292.800000</td>\n",
       "    </tr>\n",
       "    <tr>\n",
       "      <th>1</th>\n",
       "      <td>2228.525238</td>\n",
       "      <td>0</td>\n",
       "      <td>64</td>\n",
       "      <td>3.0</td>\n",
       "      <td>26</td>\n",
       "      <td>0.0</td>\n",
       "      <td>1</td>\n",
       "      <td>744.924331</td>\n",
       "    </tr>\n",
       "    <tr>\n",
       "      <th>2</th>\n",
       "      <td>14947.917300</td>\n",
       "      <td>22139</td>\n",
       "      <td>100</td>\n",
       "      <td>34.0</td>\n",
       "      <td>31</td>\n",
       "      <td>0.0</td>\n",
       "      <td>2</td>\n",
       "      <td>480.000000</td>\n",
       "    </tr>\n",
       "    <tr>\n",
       "      <th>3</th>\n",
       "      <td>22332.439460</td>\n",
       "      <td>49078</td>\n",
       "      <td>97</td>\n",
       "      <td>10.0</td>\n",
       "      <td>3</td>\n",
       "      <td>0.0</td>\n",
       "      <td>2</td>\n",
       "      <td>484.013411</td>\n",
       "    </tr>\n",
       "    <tr>\n",
       "      <th>4</th>\n",
       "      <td>9025.067525</td>\n",
       "      <td>23675</td>\n",
       "      <td>117</td>\n",
       "      <td>NaN</td>\n",
       "      <td>31</td>\n",
       "      <td>NaN</td>\n",
       "      <td>7</td>\n",
       "      <td>707.925645</td>\n",
       "    </tr>\n",
       "    <tr>\n",
       "      <th>...</th>\n",
       "      <td>...</td>\n",
       "      <td>...</td>\n",
       "      <td>...</td>\n",
       "      <td>...</td>\n",
       "      <td>...</td>\n",
       "      <td>...</td>\n",
       "      <td>...</td>\n",
       "      <td>...</td>\n",
       "    </tr>\n",
       "    <tr>\n",
       "      <th>10905</th>\n",
       "      <td>15563.369440</td>\n",
       "      <td>0</td>\n",
       "      <td>253</td>\n",
       "      <td>NaN</td>\n",
       "      <td>40</td>\n",
       "      <td>NaN</td>\n",
       "      <td>7</td>\n",
       "      <td>1214.400000</td>\n",
       "    </tr>\n",
       "    <tr>\n",
       "      <th>10906</th>\n",
       "      <td>5259.444853</td>\n",
       "      <td>61146</td>\n",
       "      <td>65</td>\n",
       "      <td>7.0</td>\n",
       "      <td>68</td>\n",
       "      <td>0.0</td>\n",
       "      <td>6</td>\n",
       "      <td>273.018929</td>\n",
       "    </tr>\n",
       "    <tr>\n",
       "      <th>10907</th>\n",
       "      <td>23893.304100</td>\n",
       "      <td>39837</td>\n",
       "      <td>201</td>\n",
       "      <td>11.0</td>\n",
       "      <td>63</td>\n",
       "      <td>0.0</td>\n",
       "      <td>2</td>\n",
       "      <td>381.306996</td>\n",
       "    </tr>\n",
       "    <tr>\n",
       "      <th>10908</th>\n",
       "      <td>11971.977650</td>\n",
       "      <td>64195</td>\n",
       "      <td>158</td>\n",
       "      <td>0.0</td>\n",
       "      <td>27</td>\n",
       "      <td>4.0</td>\n",
       "      <td>6</td>\n",
       "      <td>618.288849</td>\n",
       "    </tr>\n",
       "    <tr>\n",
       "      <th>10909</th>\n",
       "      <td>6857.519928</td>\n",
       "      <td>0</td>\n",
       "      <td>101</td>\n",
       "      <td>31.0</td>\n",
       "      <td>1</td>\n",
       "      <td>0.0</td>\n",
       "      <td>3</td>\n",
       "      <td>1021.719397</td>\n",
       "    </tr>\n",
       "  </tbody>\n",
       "</table>\n",
       "<p>10910 rows × 8 columns</p>\n",
       "</div>"
      ],
      "text/plain": [
       "       customer lifetime value  income  monthly premium auto  \\\n",
       "0                  4809.216960   48029                    61   \n",
       "1                  2228.525238       0                    64   \n",
       "2                 14947.917300   22139                   100   \n",
       "3                 22332.439460   49078                    97   \n",
       "4                  9025.067525   23675                   117   \n",
       "...                        ...     ...                   ...   \n",
       "10905             15563.369440       0                   253   \n",
       "10906              5259.444853   61146                    65   \n",
       "10907             23893.304100   39837                   201   \n",
       "10908             11971.977650   64195                   158   \n",
       "10909              6857.519928       0                   101   \n",
       "\n",
       "       months since last claim  months since policy inception  \\\n",
       "0                          7.0                             52   \n",
       "1                          3.0                             26   \n",
       "2                         34.0                             31   \n",
       "3                         10.0                              3   \n",
       "4                          NaN                             31   \n",
       "...                        ...                            ...   \n",
       "10905                      NaN                             40   \n",
       "10906                      7.0                             68   \n",
       "10907                     11.0                             63   \n",
       "10908                      0.0                             27   \n",
       "10909                     31.0                              1   \n",
       "\n",
       "       number of open complaints  number of policies  total claim amount  \n",
       "0                            0.0                   9          292.800000  \n",
       "1                            0.0                   1          744.924331  \n",
       "2                            0.0                   2          480.000000  \n",
       "3                            0.0                   2          484.013411  \n",
       "4                            NaN                   7          707.925645  \n",
       "...                          ...                 ...                 ...  \n",
       "10905                        NaN                   7         1214.400000  \n",
       "10906                        0.0                   6          273.018929  \n",
       "10907                        0.0                   2          381.306996  \n",
       "10908                        4.0                   6          618.288849  \n",
       "10909                        0.0                   3         1021.719397  \n",
       "\n",
       "[10910 rows x 8 columns]"
      ]
     },
     "execution_count": 9,
     "metadata": {},
     "output_type": "execute_result"
    }
   ],
   "source": [
    "#3. Which columns are numerical?\n",
    "data.select_dtypes(np.number)"
   ]
  },
  {
   "cell_type": "code",
   "execution_count": 10,
   "id": "46316d75",
   "metadata": {},
   "outputs": [
    {
     "data": {
      "text/html": [
       "<div>\n",
       "<style scoped>\n",
       "    .dataframe tbody tr th:only-of-type {\n",
       "        vertical-align: middle;\n",
       "    }\n",
       "\n",
       "    .dataframe tbody tr th {\n",
       "        vertical-align: top;\n",
       "    }\n",
       "\n",
       "    .dataframe thead th {\n",
       "        text-align: right;\n",
       "    }\n",
       "</style>\n",
       "<table border=\"1\" class=\"dataframe\">\n",
       "  <thead>\n",
       "    <tr style=\"text-align: right;\">\n",
       "      <th></th>\n",
       "      <th>customer</th>\n",
       "      <th>state</th>\n",
       "      <th>response</th>\n",
       "      <th>coverage</th>\n",
       "      <th>education</th>\n",
       "      <th>effective to date</th>\n",
       "      <th>employment status</th>\n",
       "      <th>gender</th>\n",
       "      <th>location code</th>\n",
       "      <th>marital status</th>\n",
       "      <th>policy type</th>\n",
       "      <th>policy</th>\n",
       "      <th>renew offer type</th>\n",
       "      <th>sales channel</th>\n",
       "      <th>vehicle class</th>\n",
       "      <th>vehicle size</th>\n",
       "      <th>vehicle type</th>\n",
       "    </tr>\n",
       "  </thead>\n",
       "  <tbody>\n",
       "    <tr>\n",
       "      <th>0</th>\n",
       "      <td>DK49336</td>\n",
       "      <td>Arizona</td>\n",
       "      <td>No</td>\n",
       "      <td>Basic</td>\n",
       "      <td>College</td>\n",
       "      <td>2/18/11</td>\n",
       "      <td>Employed</td>\n",
       "      <td>M</td>\n",
       "      <td>Suburban</td>\n",
       "      <td>Married</td>\n",
       "      <td>Corporate Auto</td>\n",
       "      <td>Corporate L3</td>\n",
       "      <td>Offer3</td>\n",
       "      <td>Agent</td>\n",
       "      <td>Four-Door Car</td>\n",
       "      <td>Medsize</td>\n",
       "      <td>NaN</td>\n",
       "    </tr>\n",
       "    <tr>\n",
       "      <th>1</th>\n",
       "      <td>KX64629</td>\n",
       "      <td>California</td>\n",
       "      <td>No</td>\n",
       "      <td>Basic</td>\n",
       "      <td>College</td>\n",
       "      <td>1/18/11</td>\n",
       "      <td>Unemployed</td>\n",
       "      <td>F</td>\n",
       "      <td>Suburban</td>\n",
       "      <td>Single</td>\n",
       "      <td>Personal Auto</td>\n",
       "      <td>Personal L3</td>\n",
       "      <td>Offer4</td>\n",
       "      <td>Call Center</td>\n",
       "      <td>Four-Door Car</td>\n",
       "      <td>Medsize</td>\n",
       "      <td>NaN</td>\n",
       "    </tr>\n",
       "    <tr>\n",
       "      <th>2</th>\n",
       "      <td>LZ68649</td>\n",
       "      <td>Washington</td>\n",
       "      <td>No</td>\n",
       "      <td>Basic</td>\n",
       "      <td>Bachelor</td>\n",
       "      <td>2/10/11</td>\n",
       "      <td>Employed</td>\n",
       "      <td>M</td>\n",
       "      <td>Suburban</td>\n",
       "      <td>Single</td>\n",
       "      <td>Personal Auto</td>\n",
       "      <td>Personal L3</td>\n",
       "      <td>Offer3</td>\n",
       "      <td>Call Center</td>\n",
       "      <td>SUV</td>\n",
       "      <td>Medsize</td>\n",
       "      <td>A</td>\n",
       "    </tr>\n",
       "    <tr>\n",
       "      <th>3</th>\n",
       "      <td>XL78013</td>\n",
       "      <td>Oregon</td>\n",
       "      <td>Yes</td>\n",
       "      <td>Extended</td>\n",
       "      <td>College</td>\n",
       "      <td>1/11/11</td>\n",
       "      <td>Employed</td>\n",
       "      <td>M</td>\n",
       "      <td>Suburban</td>\n",
       "      <td>Single</td>\n",
       "      <td>Corporate Auto</td>\n",
       "      <td>Corporate L3</td>\n",
       "      <td>Offer2</td>\n",
       "      <td>Branch</td>\n",
       "      <td>Four-Door Car</td>\n",
       "      <td>Medsize</td>\n",
       "      <td>A</td>\n",
       "    </tr>\n",
       "    <tr>\n",
       "      <th>4</th>\n",
       "      <td>QA50777</td>\n",
       "      <td>Oregon</td>\n",
       "      <td>No</td>\n",
       "      <td>Premium</td>\n",
       "      <td>Bachelor</td>\n",
       "      <td>1/17/11</td>\n",
       "      <td>Medical Leave</td>\n",
       "      <td>F</td>\n",
       "      <td>Suburban</td>\n",
       "      <td>Married</td>\n",
       "      <td>Personal Auto</td>\n",
       "      <td>Personal L2</td>\n",
       "      <td>Offer1</td>\n",
       "      <td>Branch</td>\n",
       "      <td>Four-Door Car</td>\n",
       "      <td>Medsize</td>\n",
       "      <td>NaN</td>\n",
       "    </tr>\n",
       "    <tr>\n",
       "      <th>...</th>\n",
       "      <td>...</td>\n",
       "      <td>...</td>\n",
       "      <td>...</td>\n",
       "      <td>...</td>\n",
       "      <td>...</td>\n",
       "      <td>...</td>\n",
       "      <td>...</td>\n",
       "      <td>...</td>\n",
       "      <td>...</td>\n",
       "      <td>...</td>\n",
       "      <td>...</td>\n",
       "      <td>...</td>\n",
       "      <td>...</td>\n",
       "      <td>...</td>\n",
       "      <td>...</td>\n",
       "      <td>...</td>\n",
       "      <td>...</td>\n",
       "    </tr>\n",
       "    <tr>\n",
       "      <th>10905</th>\n",
       "      <td>FE99816</td>\n",
       "      <td>Nevada</td>\n",
       "      <td>No</td>\n",
       "      <td>Premium</td>\n",
       "      <td>Bachelor</td>\n",
       "      <td>1/19/11</td>\n",
       "      <td>Unemployed</td>\n",
       "      <td>F</td>\n",
       "      <td>Suburban</td>\n",
       "      <td>Married</td>\n",
       "      <td>Personal Auto</td>\n",
       "      <td>Personal L1</td>\n",
       "      <td>Offer3</td>\n",
       "      <td>Web</td>\n",
       "      <td>Luxury Car</td>\n",
       "      <td>Medsize</td>\n",
       "      <td>A</td>\n",
       "    </tr>\n",
       "    <tr>\n",
       "      <th>10906</th>\n",
       "      <td>KX53892</td>\n",
       "      <td>Oregon</td>\n",
       "      <td>No</td>\n",
       "      <td>Basic</td>\n",
       "      <td>College</td>\n",
       "      <td>1/6/11</td>\n",
       "      <td>Employed</td>\n",
       "      <td>F</td>\n",
       "      <td>Urban</td>\n",
       "      <td>Married</td>\n",
       "      <td>Personal Auto</td>\n",
       "      <td>Personal L3</td>\n",
       "      <td>Offer2</td>\n",
       "      <td>Branch</td>\n",
       "      <td>Four-Door Car</td>\n",
       "      <td>Medsize</td>\n",
       "      <td>A</td>\n",
       "    </tr>\n",
       "    <tr>\n",
       "      <th>10907</th>\n",
       "      <td>TL39050</td>\n",
       "      <td>Arizona</td>\n",
       "      <td>No</td>\n",
       "      <td>Extended</td>\n",
       "      <td>Bachelor</td>\n",
       "      <td>2/6/11</td>\n",
       "      <td>Employed</td>\n",
       "      <td>F</td>\n",
       "      <td>Rural</td>\n",
       "      <td>Married</td>\n",
       "      <td>Corporate Auto</td>\n",
       "      <td>Corporate L3</td>\n",
       "      <td>Offer1</td>\n",
       "      <td>Web</td>\n",
       "      <td>Luxury SUV</td>\n",
       "      <td>Medsize</td>\n",
       "      <td>NaN</td>\n",
       "    </tr>\n",
       "    <tr>\n",
       "      <th>10908</th>\n",
       "      <td>WA60547</td>\n",
       "      <td>California</td>\n",
       "      <td>No</td>\n",
       "      <td>Premium</td>\n",
       "      <td>College</td>\n",
       "      <td>2/13/11</td>\n",
       "      <td>Employed</td>\n",
       "      <td>F</td>\n",
       "      <td>Urban</td>\n",
       "      <td>Divorced</td>\n",
       "      <td>Personal Auto</td>\n",
       "      <td>Personal L1</td>\n",
       "      <td>Offer1</td>\n",
       "      <td>Branch</td>\n",
       "      <td>SUV</td>\n",
       "      <td>Medsize</td>\n",
       "      <td>A</td>\n",
       "    </tr>\n",
       "    <tr>\n",
       "      <th>10909</th>\n",
       "      <td>IV32877</td>\n",
       "      <td>NaN</td>\n",
       "      <td>NaN</td>\n",
       "      <td>Basic</td>\n",
       "      <td>Bachelor</td>\n",
       "      <td>1/8/11</td>\n",
       "      <td>Unemployed</td>\n",
       "      <td>M</td>\n",
       "      <td>Suburban</td>\n",
       "      <td>Single</td>\n",
       "      <td>Personal Auto</td>\n",
       "      <td>Personal L1</td>\n",
       "      <td>Offer4</td>\n",
       "      <td>Web</td>\n",
       "      <td>SUV</td>\n",
       "      <td>Medsize</td>\n",
       "      <td>NaN</td>\n",
       "    </tr>\n",
       "  </tbody>\n",
       "</table>\n",
       "<p>10910 rows × 17 columns</p>\n",
       "</div>"
      ],
      "text/plain": [
       "      customer       state response  coverage education effective to date  \\\n",
       "0      DK49336     Arizona       No     Basic   College           2/18/11   \n",
       "1      KX64629  California       No     Basic   College           1/18/11   \n",
       "2      LZ68649  Washington       No     Basic  Bachelor           2/10/11   \n",
       "3      XL78013      Oregon      Yes  Extended   College           1/11/11   \n",
       "4      QA50777      Oregon       No   Premium  Bachelor           1/17/11   \n",
       "...        ...         ...      ...       ...       ...               ...   \n",
       "10905  FE99816      Nevada       No   Premium  Bachelor           1/19/11   \n",
       "10906  KX53892      Oregon       No     Basic   College            1/6/11   \n",
       "10907  TL39050     Arizona       No  Extended  Bachelor            2/6/11   \n",
       "10908  WA60547  California       No   Premium   College           2/13/11   \n",
       "10909  IV32877         NaN      NaN     Basic  Bachelor            1/8/11   \n",
       "\n",
       "      employment status gender location code marital status     policy type  \\\n",
       "0              Employed      M      Suburban        Married  Corporate Auto   \n",
       "1            Unemployed      F      Suburban         Single   Personal Auto   \n",
       "2              Employed      M      Suburban         Single   Personal Auto   \n",
       "3              Employed      M      Suburban         Single  Corporate Auto   \n",
       "4         Medical Leave      F      Suburban        Married   Personal Auto   \n",
       "...                 ...    ...           ...            ...             ...   \n",
       "10905        Unemployed      F      Suburban        Married   Personal Auto   \n",
       "10906          Employed      F         Urban        Married   Personal Auto   \n",
       "10907          Employed      F         Rural        Married  Corporate Auto   \n",
       "10908          Employed      F         Urban       Divorced   Personal Auto   \n",
       "10909        Unemployed      M      Suburban         Single   Personal Auto   \n",
       "\n",
       "             policy renew offer type sales channel  vehicle class  \\\n",
       "0      Corporate L3           Offer3         Agent  Four-Door Car   \n",
       "1       Personal L3           Offer4   Call Center  Four-Door Car   \n",
       "2       Personal L3           Offer3   Call Center            SUV   \n",
       "3      Corporate L3           Offer2        Branch  Four-Door Car   \n",
       "4       Personal L2           Offer1        Branch  Four-Door Car   \n",
       "...             ...              ...           ...            ...   \n",
       "10905   Personal L1           Offer3           Web     Luxury Car   \n",
       "10906   Personal L3           Offer2        Branch  Four-Door Car   \n",
       "10907  Corporate L3           Offer1           Web     Luxury SUV   \n",
       "10908   Personal L1           Offer1        Branch            SUV   \n",
       "10909   Personal L1           Offer4           Web            SUV   \n",
       "\n",
       "      vehicle size vehicle type  \n",
       "0          Medsize          NaN  \n",
       "1          Medsize          NaN  \n",
       "2          Medsize            A  \n",
       "3          Medsize            A  \n",
       "4          Medsize          NaN  \n",
       "...            ...          ...  \n",
       "10905      Medsize            A  \n",
       "10906      Medsize            A  \n",
       "10907      Medsize          NaN  \n",
       "10908      Medsize            A  \n",
       "10909      Medsize          NaN  \n",
       "\n",
       "[10910 rows x 17 columns]"
      ]
     },
     "execution_count": 10,
     "metadata": {},
     "output_type": "execute_result"
    }
   ],
   "source": [
    "#4. Which columns are categorical?\n",
    "data.select_dtypes(object)"
   ]
  },
  {
   "cell_type": "markdown",
   "id": "8e837e40",
   "metadata": {},
   "source": [
    "# Check and deal with NaN values."
   ]
  },
  {
   "cell_type": "code",
   "execution_count": 11,
   "id": "a96b02cb",
   "metadata": {},
   "outputs": [
    {
     "data": {
      "text/plain": [
       "customer                            0\n",
       "state                             614\n",
       "customer lifetime value             0\n",
       "response                          614\n",
       "coverage                            0\n",
       "education                           0\n",
       "effective to date                   0\n",
       "employment status                   0\n",
       "gender                              0\n",
       "income                              0\n",
       "location code                       0\n",
       "marital status                      0\n",
       "monthly premium auto                0\n",
       "months since last claim           623\n",
       "months since policy inception       0\n",
       "number of open complaints         623\n",
       "number of policies                  0\n",
       "policy type                         0\n",
       "policy                              0\n",
       "renew offer type                    0\n",
       "sales channel                       0\n",
       "total claim amount                  0\n",
       "vehicle class                     608\n",
       "vehicle size                      608\n",
       "vehicle type                     5465\n",
       "dtype: int64"
      ]
     },
     "execution_count": 11,
     "metadata": {},
     "output_type": "execute_result"
    }
   ],
   "source": [
    "sum(data.duplicated())\n",
    "data = data.drop_duplicates()\n",
    "data.isna().sum()"
   ]
  },
  {
   "cell_type": "code",
   "execution_count": 12,
   "id": "178fd02b",
   "metadata": {},
   "outputs": [
    {
     "data": {
      "text/html": [
       "<div>\n",
       "<style scoped>\n",
       "    .dataframe tbody tr th:only-of-type {\n",
       "        vertical-align: middle;\n",
       "    }\n",
       "\n",
       "    .dataframe tbody tr th {\n",
       "        vertical-align: top;\n",
       "    }\n",
       "\n",
       "    .dataframe thead th {\n",
       "        text-align: right;\n",
       "    }\n",
       "</style>\n",
       "<table border=\"1\" class=\"dataframe\">\n",
       "  <thead>\n",
       "    <tr style=\"text-align: right;\">\n",
       "      <th></th>\n",
       "      <th>header_name</th>\n",
       "      <th>percent_nulls</th>\n",
       "    </tr>\n",
       "  </thead>\n",
       "  <tbody>\n",
       "    <tr>\n",
       "      <th>0</th>\n",
       "      <td>customer</td>\n",
       "      <td>0.00</td>\n",
       "    </tr>\n",
       "    <tr>\n",
       "      <th>1</th>\n",
       "      <td>state</td>\n",
       "      <td>5.65</td>\n",
       "    </tr>\n",
       "    <tr>\n",
       "      <th>2</th>\n",
       "      <td>customer lifetime value</td>\n",
       "      <td>0.00</td>\n",
       "    </tr>\n",
       "    <tr>\n",
       "      <th>3</th>\n",
       "      <td>response</td>\n",
       "      <td>5.65</td>\n",
       "    </tr>\n",
       "    <tr>\n",
       "      <th>4</th>\n",
       "      <td>coverage</td>\n",
       "      <td>0.00</td>\n",
       "    </tr>\n",
       "    <tr>\n",
       "      <th>5</th>\n",
       "      <td>education</td>\n",
       "      <td>0.00</td>\n",
       "    </tr>\n",
       "    <tr>\n",
       "      <th>6</th>\n",
       "      <td>effective to date</td>\n",
       "      <td>0.00</td>\n",
       "    </tr>\n",
       "    <tr>\n",
       "      <th>7</th>\n",
       "      <td>employment status</td>\n",
       "      <td>0.00</td>\n",
       "    </tr>\n",
       "    <tr>\n",
       "      <th>8</th>\n",
       "      <td>gender</td>\n",
       "      <td>0.00</td>\n",
       "    </tr>\n",
       "    <tr>\n",
       "      <th>9</th>\n",
       "      <td>income</td>\n",
       "      <td>0.00</td>\n",
       "    </tr>\n",
       "    <tr>\n",
       "      <th>10</th>\n",
       "      <td>location code</td>\n",
       "      <td>0.00</td>\n",
       "    </tr>\n",
       "    <tr>\n",
       "      <th>11</th>\n",
       "      <td>marital status</td>\n",
       "      <td>0.00</td>\n",
       "    </tr>\n",
       "    <tr>\n",
       "      <th>12</th>\n",
       "      <td>monthly premium auto</td>\n",
       "      <td>0.00</td>\n",
       "    </tr>\n",
       "    <tr>\n",
       "      <th>13</th>\n",
       "      <td>months since last claim</td>\n",
       "      <td>5.73</td>\n",
       "    </tr>\n",
       "    <tr>\n",
       "      <th>14</th>\n",
       "      <td>months since policy inception</td>\n",
       "      <td>0.00</td>\n",
       "    </tr>\n",
       "    <tr>\n",
       "      <th>15</th>\n",
       "      <td>number of open complaints</td>\n",
       "      <td>5.73</td>\n",
       "    </tr>\n",
       "    <tr>\n",
       "      <th>16</th>\n",
       "      <td>number of policies</td>\n",
       "      <td>0.00</td>\n",
       "    </tr>\n",
       "    <tr>\n",
       "      <th>17</th>\n",
       "      <td>policy type</td>\n",
       "      <td>0.00</td>\n",
       "    </tr>\n",
       "    <tr>\n",
       "      <th>18</th>\n",
       "      <td>policy</td>\n",
       "      <td>0.00</td>\n",
       "    </tr>\n",
       "    <tr>\n",
       "      <th>19</th>\n",
       "      <td>renew offer type</td>\n",
       "      <td>0.00</td>\n",
       "    </tr>\n",
       "    <tr>\n",
       "      <th>20</th>\n",
       "      <td>sales channel</td>\n",
       "      <td>0.00</td>\n",
       "    </tr>\n",
       "    <tr>\n",
       "      <th>21</th>\n",
       "      <td>total claim amount</td>\n",
       "      <td>0.00</td>\n",
       "    </tr>\n",
       "    <tr>\n",
       "      <th>22</th>\n",
       "      <td>vehicle class</td>\n",
       "      <td>5.59</td>\n",
       "    </tr>\n",
       "    <tr>\n",
       "      <th>23</th>\n",
       "      <td>vehicle size</td>\n",
       "      <td>5.59</td>\n",
       "    </tr>\n",
       "    <tr>\n",
       "      <th>24</th>\n",
       "      <td>vehicle type</td>\n",
       "      <td>50.26</td>\n",
       "    </tr>\n",
       "  </tbody>\n",
       "</table>\n",
       "</div>"
      ],
      "text/plain": [
       "                      header_name  percent_nulls\n",
       "0                        customer           0.00\n",
       "1                           state           5.65\n",
       "2         customer lifetime value           0.00\n",
       "3                        response           5.65\n",
       "4                        coverage           0.00\n",
       "5                       education           0.00\n",
       "6               effective to date           0.00\n",
       "7               employment status           0.00\n",
       "8                          gender           0.00\n",
       "9                          income           0.00\n",
       "10                  location code           0.00\n",
       "11                 marital status           0.00\n",
       "12           monthly premium auto           0.00\n",
       "13        months since last claim           5.73\n",
       "14  months since policy inception           0.00\n",
       "15      number of open complaints           5.73\n",
       "16             number of policies           0.00\n",
       "17                    policy type           0.00\n",
       "18                         policy           0.00\n",
       "19               renew offer type           0.00\n",
       "20                  sales channel           0.00\n",
       "21             total claim amount           0.00\n",
       "22                  vehicle class           5.59\n",
       "23                   vehicle size           5.59\n",
       "24                   vehicle type          50.26"
      ]
     },
     "execution_count": 12,
     "metadata": {},
     "output_type": "execute_result"
    }
   ],
   "source": [
    "round(data.isna().sum()/len(data),4)*100  # shows the percentage of null values in a column\n",
    "nulls_df = pd.DataFrame(round(data.isna().sum()/len(data),4)*100)\n",
    "nulls_df = nulls_df.reset_index()\n",
    "nulls_df.columns = ['header_name', 'percent_nulls']\n",
    "nulls_df"
   ]
  },
  {
   "cell_type": "code",
   "execution_count": 13,
   "id": "951c39b9",
   "metadata": {},
   "outputs": [
    {
     "data": {
      "text/plain": [
       "array([nan, 'A'], dtype=object)"
      ]
     },
     "execution_count": 13,
     "metadata": {},
     "output_type": "execute_result"
    }
   ],
   "source": [
    "data['vehicle type'].unique()"
   ]
  },
  {
   "cell_type": "code",
   "execution_count": 14,
   "id": "fb73ecb7",
   "metadata": {},
   "outputs": [],
   "source": [
    "data = data[data['state'].isna()==False]  #delete when very few"
   ]
  },
  {
   "cell_type": "code",
   "execution_count": 15,
   "id": "60da453e",
   "metadata": {},
   "outputs": [
    {
     "data": {
      "text/plain": [
       "(10259, 25)"
      ]
     },
     "metadata": {},
     "output_type": "display_data"
    },
    {
     "data": {
      "text/plain": [
       "customer                            0\n",
       "state                               0\n",
       "customer lifetime value             0\n",
       "response                            0\n",
       "coverage                            0\n",
       "education                           0\n",
       "effective to date                   0\n",
       "employment status                   0\n",
       "gender                              0\n",
       "income                              0\n",
       "location code                       0\n",
       "marital status                      0\n",
       "monthly premium auto                0\n",
       "months since last claim           582\n",
       "months since policy inception       0\n",
       "number of open complaints         582\n",
       "number of policies                  0\n",
       "policy type                         0\n",
       "policy                              0\n",
       "renew offer type                    0\n",
       "sales channel                       0\n",
       "total claim amount                  0\n",
       "vehicle class                     579\n",
       "vehicle size                      579\n",
       "vehicle type                     5157\n",
       "dtype: int64"
      ]
     },
     "metadata": {},
     "output_type": "display_data"
    }
   ],
   "source": [
    "data = data[data['response'].isna()==False] #delete when very few\n",
    "display(data.shape)\n",
    "display(data.isna().sum())"
   ]
  },
  {
   "cell_type": "code",
   "execution_count": 16,
   "id": "8b871a98",
   "metadata": {},
   "outputs": [
    {
     "data": {
      "text/plain": [
       "array([nan, 'A'], dtype=object)"
      ]
     },
     "execution_count": 16,
     "metadata": {},
     "output_type": "execute_result"
    }
   ],
   "source": [
    "#half of vehicle type is nan, lets see\n",
    "data['vehicle type'].unique()"
   ]
  },
  {
   "cell_type": "code",
   "execution_count": 17,
   "id": "c05b0818",
   "metadata": {
    "scrolled": true
   },
   "outputs": [],
   "source": [
    "#only nan and A, so make the nans \"unknown\"\n",
    "data['vehicle type'] = data['vehicle type'].fillna('Unknown')"
   ]
  },
  {
   "cell_type": "code",
   "execution_count": 18,
   "id": "567eb0c5",
   "metadata": {},
   "outputs": [
    {
     "data": {
      "text/plain": [
       "array(['Four-Door Car', 'SUV', 'Two-Door Car', 'Sports Car', 'Luxury Car',\n",
       "       'Luxury SUV', nan], dtype=object)"
      ]
     },
     "metadata": {},
     "output_type": "display_data"
    },
    {
     "data": {
      "text/plain": [
       "array(['Medsize', 'Small', 'Large', nan], dtype=object)"
      ]
     },
     "metadata": {},
     "output_type": "display_data"
    }
   ],
   "source": [
    "display(data['vehicle class'].unique())\n",
    "display(data['vehicle size'].unique())"
   ]
  },
  {
   "cell_type": "code",
   "execution_count": 19,
   "id": "ee2a298e",
   "metadata": {},
   "outputs": [],
   "source": [
    "#fill nan s with unknown, no need to get rid of them\n",
    "data['vehicle class'] = data['vehicle class'].fillna('Unknown')\n",
    "data['vehicle size'] = data['vehicle size'].fillna('Unknown')"
   ]
  },
  {
   "cell_type": "code",
   "execution_count": 20,
   "id": "6150b53a",
   "metadata": {},
   "outputs": [
    {
     "data": {
      "text/plain": [
       "0.0    7688\n",
       "1.0    1073\n",
       "2.0     392\n",
       "3.0     303\n",
       "4.0     161\n",
       "5.0      60\n",
       "Name: number of open complaints, dtype: int64"
      ]
     },
     "execution_count": 20,
     "metadata": {},
     "output_type": "execute_result"
    }
   ],
   "source": [
    "data['number of open complaints'].value_counts()"
   ]
  },
  {
   "cell_type": "code",
   "execution_count": 21,
   "id": "94b9b05b",
   "metadata": {},
   "outputs": [],
   "source": [
    "#majority is 0.00, so I will assign 0.0 to nan values\n",
    "data['number of open complaints'] = data['number of open complaints'].fillna(0)"
   ]
  },
  {
   "cell_type": "code",
   "execution_count": 22,
   "id": "45adb7e9",
   "metadata": {},
   "outputs": [
    {
     "data": {
      "text/plain": [
       "customer                           0\n",
       "state                              0\n",
       "customer lifetime value            0\n",
       "response                           0\n",
       "coverage                           0\n",
       "education                          0\n",
       "effective to date                  0\n",
       "employment status                  0\n",
       "gender                             0\n",
       "income                             0\n",
       "location code                      0\n",
       "marital status                     0\n",
       "monthly premium auto               0\n",
       "months since last claim          582\n",
       "months since policy inception      0\n",
       "number of open complaints          0\n",
       "number of policies                 0\n",
       "policy type                        0\n",
       "policy                             0\n",
       "renew offer type                   0\n",
       "sales channel                      0\n",
       "total claim amount                 0\n",
       "vehicle class                      0\n",
       "vehicle size                       0\n",
       "vehicle type                       0\n",
       "dtype: int64"
      ]
     },
     "metadata": {},
     "output_type": "display_data"
    }
   ],
   "source": [
    "display(data.isna().sum())"
   ]
  },
  {
   "cell_type": "code",
   "execution_count": 23,
   "id": "23dd0694",
   "metadata": {},
   "outputs": [
    {
     "data": {
      "text/plain": [
       "3.0     401\n",
       "6.0     381\n",
       "1.0     364\n",
       "7.0     354\n",
       "4.0     353\n",
       "2.0     348\n",
       "5.0     331\n",
       "0.0     329\n",
       "10.0    323\n",
       "16.0    318\n",
       "11.0    316\n",
       "15.0    303\n",
       "8.0     297\n",
       "13.0    295\n",
       "12.0    289\n",
       "17.0    283\n",
       "14.0    280\n",
       "9.0     263\n",
       "19.0    263\n",
       "23.0    261\n",
       "25.0    253\n",
       "21.0    250\n",
       "20.0    246\n",
       "18.0    244\n",
       "22.0    231\n",
       "29.0    222\n",
       "24.0    221\n",
       "28.0    209\n",
       "26.0    202\n",
       "31.0    201\n",
       "27.0    193\n",
       "30.0    192\n",
       "33.0    188\n",
       "34.0    185\n",
       "35.0    148\n",
       "32.0    140\n",
       "Name: months since last claim, dtype: int64"
      ]
     },
     "execution_count": 23,
     "metadata": {},
     "output_type": "execute_result"
    }
   ],
   "source": [
    "data['months since last claim'].value_counts()"
   ]
  },
  {
   "cell_type": "code",
   "execution_count": 24,
   "id": "164e84ee",
   "metadata": {},
   "outputs": [],
   "source": [
    "# this looks confusing, I will put median to the missing values\n",
    "median_months_since_last_claim = data[\"months since last claim\"].median(skipna=True)\n",
    "data['months since last claim'] = data['months since last claim'].fillna(median_months_since_last_claim)"
   ]
  },
  {
   "cell_type": "code",
   "execution_count": 25,
   "id": "bf26482a",
   "metadata": {},
   "outputs": [],
   "source": [
    "data['month'] = pd.DatetimeIndex(data['effective to date']).month"
   ]
  },
  {
   "cell_type": "code",
   "execution_count": 26,
   "id": "6c685f2f",
   "metadata": {},
   "outputs": [
    {
     "data": {
      "text/html": [
       "<div>\n",
       "<style scoped>\n",
       "    .dataframe tbody tr th:only-of-type {\n",
       "        vertical-align: middle;\n",
       "    }\n",
       "\n",
       "    .dataframe tbody tr th {\n",
       "        vertical-align: top;\n",
       "    }\n",
       "\n",
       "    .dataframe thead th {\n",
       "        text-align: right;\n",
       "    }\n",
       "</style>\n",
       "<table border=\"1\" class=\"dataframe\">\n",
       "  <thead>\n",
       "    <tr style=\"text-align: right;\">\n",
       "      <th></th>\n",
       "      <th>customer</th>\n",
       "      <th>state</th>\n",
       "      <th>customer lifetime value</th>\n",
       "      <th>response</th>\n",
       "      <th>coverage</th>\n",
       "      <th>education</th>\n",
       "      <th>effective to date</th>\n",
       "      <th>employment status</th>\n",
       "      <th>gender</th>\n",
       "      <th>income</th>\n",
       "      <th>...</th>\n",
       "      <th>number of policies</th>\n",
       "      <th>policy type</th>\n",
       "      <th>policy</th>\n",
       "      <th>renew offer type</th>\n",
       "      <th>sales channel</th>\n",
       "      <th>total claim amount</th>\n",
       "      <th>vehicle class</th>\n",
       "      <th>vehicle size</th>\n",
       "      <th>vehicle type</th>\n",
       "      <th>month</th>\n",
       "    </tr>\n",
       "  </thead>\n",
       "  <tbody>\n",
       "    <tr>\n",
       "      <th>9918</th>\n",
       "      <td>EP64833</td>\n",
       "      <td>California</td>\n",
       "      <td>6179.699689</td>\n",
       "      <td>No</td>\n",
       "      <td>Extended</td>\n",
       "      <td>High School or Below</td>\n",
       "      <td>2/26/11</td>\n",
       "      <td>Unemployed</td>\n",
       "      <td>F</td>\n",
       "      <td>0</td>\n",
       "      <td>...</td>\n",
       "      <td>8</td>\n",
       "      <td>Corporate Auto</td>\n",
       "      <td>Corporate L3</td>\n",
       "      <td>Offer3</td>\n",
       "      <td>Call Center</td>\n",
       "      <td>412.8</td>\n",
       "      <td>Four-Door Car</td>\n",
       "      <td>Medsize</td>\n",
       "      <td>Unknown</td>\n",
       "      <td>2</td>\n",
       "    </tr>\n",
       "    <tr>\n",
       "      <th>4545</th>\n",
       "      <td>DP92488</td>\n",
       "      <td>Washington</td>\n",
       "      <td>2727.520769</td>\n",
       "      <td>No</td>\n",
       "      <td>Basic</td>\n",
       "      <td>Doctor</td>\n",
       "      <td>1/14/11</td>\n",
       "      <td>Employed</td>\n",
       "      <td>F</td>\n",
       "      <td>74592</td>\n",
       "      <td>...</td>\n",
       "      <td>1</td>\n",
       "      <td>Personal Auto</td>\n",
       "      <td>Personal L1</td>\n",
       "      <td>Offer4</td>\n",
       "      <td>Agent</td>\n",
       "      <td>321.6</td>\n",
       "      <td>Two-Door Car</td>\n",
       "      <td>Medsize</td>\n",
       "      <td>Unknown</td>\n",
       "      <td>1</td>\n",
       "    </tr>\n",
       "    <tr>\n",
       "      <th>6666</th>\n",
       "      <td>WH41496</td>\n",
       "      <td>Washington</td>\n",
       "      <td>4821.986443</td>\n",
       "      <td>No</td>\n",
       "      <td>Extended</td>\n",
       "      <td>College</td>\n",
       "      <td>2/1/11</td>\n",
       "      <td>Unemployed</td>\n",
       "      <td>M</td>\n",
       "      <td>0</td>\n",
       "      <td>...</td>\n",
       "      <td>1</td>\n",
       "      <td>Personal Auto</td>\n",
       "      <td>Personal L3</td>\n",
       "      <td>Offer2</td>\n",
       "      <td>Web</td>\n",
       "      <td>652.8</td>\n",
       "      <td>SUV</td>\n",
       "      <td>Large</td>\n",
       "      <td>A</td>\n",
       "      <td>2</td>\n",
       "    </tr>\n",
       "    <tr>\n",
       "      <th>9590</th>\n",
       "      <td>MC85738</td>\n",
       "      <td>California</td>\n",
       "      <td>14635.451580</td>\n",
       "      <td>Yes</td>\n",
       "      <td>Extended</td>\n",
       "      <td>Bachelor</td>\n",
       "      <td>2/27/11</td>\n",
       "      <td>Unemployed</td>\n",
       "      <td>F</td>\n",
       "      <td>0</td>\n",
       "      <td>...</td>\n",
       "      <td>2</td>\n",
       "      <td>Personal Auto</td>\n",
       "      <td>Personal L3</td>\n",
       "      <td>Offer1</td>\n",
       "      <td>Call Center</td>\n",
       "      <td>667.2</td>\n",
       "      <td>SUV</td>\n",
       "      <td>Medsize</td>\n",
       "      <td>A</td>\n",
       "      <td>2</td>\n",
       "    </tr>\n",
       "    <tr>\n",
       "      <th>4477</th>\n",
       "      <td>BL79888</td>\n",
       "      <td>Oregon</td>\n",
       "      <td>34611.378960</td>\n",
       "      <td>Yes</td>\n",
       "      <td>Basic</td>\n",
       "      <td>High School or Below</td>\n",
       "      <td>1/14/11</td>\n",
       "      <td>Employed</td>\n",
       "      <td>F</td>\n",
       "      <td>20090</td>\n",
       "      <td>...</td>\n",
       "      <td>2</td>\n",
       "      <td>Personal Auto</td>\n",
       "      <td>Personal L2</td>\n",
       "      <td>Offer2</td>\n",
       "      <td>Agent</td>\n",
       "      <td>523.2</td>\n",
       "      <td>Sports Car</td>\n",
       "      <td>Medsize</td>\n",
       "      <td>Unknown</td>\n",
       "      <td>1</td>\n",
       "    </tr>\n",
       "  </tbody>\n",
       "</table>\n",
       "<p>5 rows × 26 columns</p>\n",
       "</div>"
      ],
      "text/plain": [
       "     customer       state  customer lifetime value response  coverage  \\\n",
       "9918  EP64833  California              6179.699689       No  Extended   \n",
       "4545  DP92488  Washington              2727.520769       No     Basic   \n",
       "6666  WH41496  Washington              4821.986443       No  Extended   \n",
       "9590  MC85738  California             14635.451580      Yes  Extended   \n",
       "4477  BL79888      Oregon             34611.378960      Yes     Basic   \n",
       "\n",
       "                 education effective to date employment status gender  income  \\\n",
       "9918  High School or Below           2/26/11        Unemployed      F       0   \n",
       "4545                Doctor           1/14/11          Employed      F   74592   \n",
       "6666               College            2/1/11        Unemployed      M       0   \n",
       "9590              Bachelor           2/27/11        Unemployed      F       0   \n",
       "4477  High School or Below           1/14/11          Employed      F   20090   \n",
       "\n",
       "      ... number of policies     policy type        policy  renew offer type  \\\n",
       "9918  ...                  8  Corporate Auto  Corporate L3            Offer3   \n",
       "4545  ...                  1   Personal Auto   Personal L1            Offer4   \n",
       "6666  ...                  1   Personal Auto   Personal L3            Offer2   \n",
       "9590  ...                  2   Personal Auto   Personal L3            Offer1   \n",
       "4477  ...                  2   Personal Auto   Personal L2            Offer2   \n",
       "\n",
       "      sales channel  total claim amount  vehicle class vehicle size  \\\n",
       "9918    Call Center               412.8  Four-Door Car      Medsize   \n",
       "4545          Agent               321.6   Two-Door Car      Medsize   \n",
       "6666            Web               652.8            SUV        Large   \n",
       "9590    Call Center               667.2            SUV      Medsize   \n",
       "4477          Agent               523.2     Sports Car      Medsize   \n",
       "\n",
       "     vehicle type month  \n",
       "9918      Unknown     2  \n",
       "4545      Unknown     1  \n",
       "6666            A     2  \n",
       "9590            A     2  \n",
       "4477      Unknown     1  \n",
       "\n",
       "[5 rows x 26 columns]"
      ]
     },
     "execution_count": 26,
     "metadata": {},
     "output_type": "execute_result"
    }
   ],
   "source": [
    "data[data.month.isin([1,2,3])].sort_index(ascending=True).sample(5)"
   ]
  },
  {
   "cell_type": "code",
   "execution_count": 27,
   "id": "fd89482e",
   "metadata": {},
   "outputs": [
    {
     "data": {
      "text/plain": [
       "array([2, 1], dtype=int64)"
      ]
     },
     "execution_count": 27,
     "metadata": {},
     "output_type": "execute_result"
    }
   ],
   "source": [
    "data['month'].unique()    #so this data already about first 2 months of the year"
   ]
  },
  {
   "cell_type": "markdown",
   "id": "a3bdc0ae",
   "metadata": {},
   "source": [
    "# lab 3"
   ]
  },
  {
   "cell_type": "code",
   "execution_count": 28,
   "id": "f3940a52",
   "metadata": {},
   "outputs": [
    {
     "name": "stdout",
     "output_type": "stream",
     "text": [
      "<class 'pandas.core.frame.DataFrame'>\n",
      "Int64Index: 10259 entries, 0 to 10908\n",
      "Data columns (total 26 columns):\n",
      " #   Column                         Non-Null Count  Dtype  \n",
      "---  ------                         --------------  -----  \n",
      " 0   customer                       10259 non-null  object \n",
      " 1   state                          10259 non-null  object \n",
      " 2   customer lifetime value        10259 non-null  float64\n",
      " 3   response                       10259 non-null  object \n",
      " 4   coverage                       10259 non-null  object \n",
      " 5   education                      10259 non-null  object \n",
      " 6   effective to date              10259 non-null  object \n",
      " 7   employment status              10259 non-null  object \n",
      " 8   gender                         10259 non-null  object \n",
      " 9   income                         10259 non-null  int64  \n",
      " 10  location code                  10259 non-null  object \n",
      " 11  marital status                 10259 non-null  object \n",
      " 12  monthly premium auto           10259 non-null  int64  \n",
      " 13  months since last claim        10259 non-null  float64\n",
      " 14  months since policy inception  10259 non-null  int64  \n",
      " 15  number of open complaints      10259 non-null  float64\n",
      " 16  number of policies             10259 non-null  int64  \n",
      " 17  policy type                    10259 non-null  object \n",
      " 18  policy                         10259 non-null  object \n",
      " 19  renew offer type               10259 non-null  object \n",
      " 20  sales channel                  10259 non-null  object \n",
      " 21  total claim amount             10259 non-null  float64\n",
      " 22  vehicle class                  10259 non-null  object \n",
      " 23  vehicle size                   10259 non-null  object \n",
      " 24  vehicle type                   10259 non-null  object \n",
      " 25  month                          10259 non-null  int64  \n",
      "dtypes: float64(4), int64(5), object(17)\n",
      "memory usage: 2.1+ MB\n"
     ]
    }
   ],
   "source": [
    "data.info()"
   ]
  },
  {
   "cell_type": "code",
   "execution_count": 29,
   "id": "a8b22785",
   "metadata": {},
   "outputs": [
    {
     "data": {
      "text/html": [
       "<div>\n",
       "<style scoped>\n",
       "    .dataframe tbody tr th:only-of-type {\n",
       "        vertical-align: middle;\n",
       "    }\n",
       "\n",
       "    .dataframe tbody tr th {\n",
       "        vertical-align: top;\n",
       "    }\n",
       "\n",
       "    .dataframe thead th {\n",
       "        text-align: right;\n",
       "    }\n",
       "</style>\n",
       "<table border=\"1\" class=\"dataframe\">\n",
       "  <thead>\n",
       "    <tr style=\"text-align: right;\">\n",
       "      <th></th>\n",
       "      <th>customer lifetime value</th>\n",
       "      <th>income</th>\n",
       "      <th>monthly premium auto</th>\n",
       "      <th>months since last claim</th>\n",
       "      <th>months since policy inception</th>\n",
       "      <th>number of open complaints</th>\n",
       "      <th>number of policies</th>\n",
       "      <th>total claim amount</th>\n",
       "      <th>month</th>\n",
       "    </tr>\n",
       "  </thead>\n",
       "  <tbody>\n",
       "    <tr>\n",
       "      <th>count</th>\n",
       "      <td>10259.000000</td>\n",
       "      <td>10259.000000</td>\n",
       "      <td>10259.000000</td>\n",
       "      <td>10259.000000</td>\n",
       "      <td>10259.000000</td>\n",
       "      <td>10259.000000</td>\n",
       "      <td>10259.000000</td>\n",
       "      <td>10259.000000</td>\n",
       "      <td>10259.000000</td>\n",
       "    </tr>\n",
       "    <tr>\n",
       "      <th>mean</th>\n",
       "      <td>8026.903186</td>\n",
       "      <td>37544.608051</td>\n",
       "      <td>93.236475</td>\n",
       "      <td>15.062774</td>\n",
       "      <td>48.133249</td>\n",
       "      <td>0.361634</td>\n",
       "      <td>2.969490</td>\n",
       "      <td>435.567364</td>\n",
       "      <td>1.464568</td>\n",
       "    </tr>\n",
       "    <tr>\n",
       "      <th>std</th>\n",
       "      <td>6915.293090</td>\n",
       "      <td>30348.812135</td>\n",
       "      <td>34.443254</td>\n",
       "      <td>9.775794</td>\n",
       "      <td>27.911830</td>\n",
       "      <td>0.888738</td>\n",
       "      <td>2.393561</td>\n",
       "      <td>292.189321</td>\n",
       "      <td>0.498767</td>\n",
       "    </tr>\n",
       "    <tr>\n",
       "      <th>min</th>\n",
       "      <td>1898.007675</td>\n",
       "      <td>0.000000</td>\n",
       "      <td>61.000000</td>\n",
       "      <td>0.000000</td>\n",
       "      <td>0.000000</td>\n",
       "      <td>0.000000</td>\n",
       "      <td>1.000000</td>\n",
       "      <td>0.099007</td>\n",
       "      <td>1.000000</td>\n",
       "    </tr>\n",
       "    <tr>\n",
       "      <th>25%</th>\n",
       "      <td>4005.135983</td>\n",
       "      <td>0.000000</td>\n",
       "      <td>68.000000</td>\n",
       "      <td>7.000000</td>\n",
       "      <td>24.000000</td>\n",
       "      <td>0.000000</td>\n",
       "      <td>1.000000</td>\n",
       "      <td>272.762724</td>\n",
       "      <td>1.000000</td>\n",
       "    </tr>\n",
       "    <tr>\n",
       "      <th>50%</th>\n",
       "      <td>5773.520711</td>\n",
       "      <td>33837.000000</td>\n",
       "      <td>83.000000</td>\n",
       "      <td>14.000000</td>\n",
       "      <td>48.000000</td>\n",
       "      <td>0.000000</td>\n",
       "      <td>2.000000</td>\n",
       "      <td>384.000000</td>\n",
       "      <td>1.000000</td>\n",
       "    </tr>\n",
       "    <tr>\n",
       "      <th>75%</th>\n",
       "      <td>8992.779137</td>\n",
       "      <td>62127.000000</td>\n",
       "      <td>109.000000</td>\n",
       "      <td>23.000000</td>\n",
       "      <td>71.000000</td>\n",
       "      <td>0.000000</td>\n",
       "      <td>4.000000</td>\n",
       "      <td>547.988754</td>\n",
       "      <td>2.000000</td>\n",
       "    </tr>\n",
       "    <tr>\n",
       "      <th>max</th>\n",
       "      <td>83325.381190</td>\n",
       "      <td>99981.000000</td>\n",
       "      <td>298.000000</td>\n",
       "      <td>35.000000</td>\n",
       "      <td>99.000000</td>\n",
       "      <td>5.000000</td>\n",
       "      <td>9.000000</td>\n",
       "      <td>2893.239678</td>\n",
       "      <td>2.000000</td>\n",
       "    </tr>\n",
       "  </tbody>\n",
       "</table>\n",
       "</div>"
      ],
      "text/plain": [
       "       customer lifetime value        income  monthly premium auto  \\\n",
       "count             10259.000000  10259.000000          10259.000000   \n",
       "mean               8026.903186  37544.608051             93.236475   \n",
       "std                6915.293090  30348.812135             34.443254   \n",
       "min                1898.007675      0.000000             61.000000   \n",
       "25%                4005.135983      0.000000             68.000000   \n",
       "50%                5773.520711  33837.000000             83.000000   \n",
       "75%                8992.779137  62127.000000            109.000000   \n",
       "max               83325.381190  99981.000000            298.000000   \n",
       "\n",
       "       months since last claim  months since policy inception  \\\n",
       "count             10259.000000                   10259.000000   \n",
       "mean                 15.062774                      48.133249   \n",
       "std                   9.775794                      27.911830   \n",
       "min                   0.000000                       0.000000   \n",
       "25%                   7.000000                      24.000000   \n",
       "50%                  14.000000                      48.000000   \n",
       "75%                  23.000000                      71.000000   \n",
       "max                  35.000000                      99.000000   \n",
       "\n",
       "       number of open complaints  number of policies  total claim amount  \\\n",
       "count               10259.000000        10259.000000        10259.000000   \n",
       "mean                    0.361634            2.969490          435.567364   \n",
       "std                     0.888738            2.393561          292.189321   \n",
       "min                     0.000000            1.000000            0.099007   \n",
       "25%                     0.000000            1.000000          272.762724   \n",
       "50%                     0.000000            2.000000          384.000000   \n",
       "75%                     0.000000            4.000000          547.988754   \n",
       "max                     5.000000            9.000000         2893.239678   \n",
       "\n",
       "              month  \n",
       "count  10259.000000  \n",
       "mean       1.464568  \n",
       "std        0.498767  \n",
       "min        1.000000  \n",
       "25%        1.000000  \n",
       "50%        1.000000  \n",
       "75%        2.000000  \n",
       "max        2.000000  "
      ]
     },
     "execution_count": 29,
     "metadata": {},
     "output_type": "execute_result"
    }
   ],
   "source": [
    "data.describe()"
   ]
  },
  {
   "cell_type": "code",
   "execution_count": 30,
   "id": "643b02b0",
   "metadata": {},
   "outputs": [],
   "source": [
    "import matplotlib.pyplot as plt\n",
    "import seaborn as sns \n",
    "# %matplotlib inline"
   ]
  },
  {
   "cell_type": "code",
   "execution_count": 31,
   "id": "13d76741",
   "metadata": {},
   "outputs": [
    {
     "data": {
      "text/plain": [
       "array(['No', 'Yes'], dtype=object)"
      ]
     },
     "execution_count": 31,
     "metadata": {},
     "output_type": "execute_result"
    }
   ],
   "source": [
    "data['response'].unique()"
   ]
  },
  {
   "cell_type": "code",
   "execution_count": 32,
   "id": "b6fe0736",
   "metadata": {},
   "outputs": [
    {
     "data": {
      "text/plain": [
       "No     8795\n",
       "Yes    1464\n",
       "Name: response, dtype: int64"
      ]
     },
     "execution_count": 32,
     "metadata": {},
     "output_type": "execute_result"
    }
   ],
   "source": [
    "data['response'].value_counts()"
   ]
  },
  {
   "cell_type": "code",
   "execution_count": 33,
   "id": "e11caa9e",
   "metadata": {},
   "outputs": [],
   "source": [
    "#set a new column for responses in numeric value\n",
    "data['response_num'] = data['response'].map(dict(Yes=1, No=0))"
   ]
  },
  {
   "cell_type": "code",
   "execution_count": 34,
   "id": "066cf453",
   "metadata": {},
   "outputs": [
    {
     "data": {
      "text/plain": [
       "<AxesSubplot:xlabel='response', ylabel='count'>"
      ]
     },
     "execution_count": 34,
     "metadata": {},
     "output_type": "execute_result"
    },
    {
     "data": {
      "image/png": "[encoded data removed]",
      "text/plain": [
       "<Figure size 432x288 with 1 Axes>"
      ]
     },
     "metadata": {
      "needs_background": "light"
     },
     "output_type": "display_data"
    }
   ],
   "source": [
    "sns.countplot(x=data['response'])"
   ]
  },
  {
   "cell_type": "code",
   "execution_count": 35,
   "id": "5013f6d3",
   "metadata": {},
   "outputs": [
    {
     "data": {
      "image/png": "[encoded data removed]",
      "text/plain": [
       "<Figure size 432x288 with 1 Axes>"
      ]
     },
     "metadata": {
      "needs_background": "light"
     },
     "output_type": "display_data"
    }
   ],
   "source": [
    "data['incomes'] = pd.qcut(data['income'], q=10, duplicates='drop')\n",
    "sns.barplot(x = data[\"response_num\"], y = data['incomes'])\n",
    "plt.show()"
   ]
  },
  {
   "cell_type": "code",
   "execution_count": 36,
   "id": "eacf5681",
   "metadata": {},
   "outputs": [
    {
     "data": {
      "image/png": "[encoded data removed]",
      "text/plain": [
       "<Figure size 432x288 with 1 Axes>"
      ]
     },
     "metadata": {
      "needs_background": "light"
     },
     "output_type": "display_data"
    }
   ],
   "source": [
    "data['claims'] = pd.qcut(data['total claim amount'], q=10)\n",
    "sns.barplot(x = data[\"response_num\"], y = data['claims'])\n",
    "plt.show()\n"
   ]
  },
  {
   "cell_type": "code",
   "execution_count": 38,
   "id": "6a8da48e",
   "metadata": {},
   "outputs": [
    {
     "data": {
      "text/plain": [
       "customer                           object\n",
       "state                              object\n",
       "customer lifetime value           float64\n",
       "response                           object\n",
       "coverage                           object\n",
       "education                          object\n",
       "effective to date                  object\n",
       "employment status                  object\n",
       "gender                             object\n",
       "income                              int64\n",
       "location code                      object\n",
       "marital status                     object\n",
       "monthly premium auto                int64\n",
       "months since last claim           float64\n",
       "months since policy inception       int64\n",
       "number of open complaints         float64\n",
       "number of policies                  int64\n",
       "policy type                        object\n",
       "policy                             object\n",
       "renew offer type                   object\n",
       "sales channel                      object\n",
       "total claim amount                float64\n",
       "vehicle class                      object\n",
       "vehicle size                       object\n",
       "vehicle type                       object\n",
       "month                               int64\n",
       "response_num                        int64\n",
       "incomes                          category\n",
       "claims                           category\n",
       "dtype: object"
      ]
     },
     "execution_count": 38,
     "metadata": {},
     "output_type": "execute_result"
    }
   ],
   "source": [
    "data.dtypes"
   ]
  },
  {
   "cell_type": "code",
   "execution_count": null,
   "id": "bcf54b23",
   "metadata": {},
   "outputs": [],
   "source": []
  }
 ],
 "metadata": {
  "kernelspec": {
   "display_name": "Python 3 (ipykernel)",
   "language": "python",
   "name": "python3"
  },
  "language_info": {
   "codemirror_mode": {
    "name": "ipython",
    "version": 3
   },
   "file_extension": ".py",
   "mimetype": "text/x-python",
   "name": "python",
   "nbconvert_exporter": "python",
   "pygments_lexer": "ipython3",
   "version": "3.9.12"
  }
 },
 "nbformat": 4,
 "nbformat_minor": 5
}
